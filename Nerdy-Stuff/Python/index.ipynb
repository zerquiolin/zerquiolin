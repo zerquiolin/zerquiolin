{
 "cells": [
  {
   "cell_type": "markdown",
   "source": [
    "# Hello\r\n"
   ],
   "metadata": {}
  },
  {
   "cell_type": "code",
   "execution_count": 1,
   "source": [
    "d = {'k1':[1,2,{'k2':['this is tricky',{'tough':[1,2,['hello']]}]}]}\r\n",
    "\r\n",
    "print(d['k1'][2]['k2'][1]['tough'][2])"
   ],
   "outputs": [
    {
     "output_type": "stream",
     "name": "stdout",
     "text": [
      "['hello']\n"
     ]
    }
   ],
   "metadata": {}
  },
  {
   "cell_type": "code",
   "execution_count": 2,
   "source": [
    "print( list('hello'))"
   ],
   "outputs": [
    {
     "output_type": "stream",
     "name": "stdout",
     "text": [
      "['h', 'e', 'l', 'l', 'o']\n"
     ]
    }
   ],
   "metadata": {}
  },
  {
   "cell_type": "code",
   "execution_count": 3,
   "source": [
    "def createEmployees( **args ):\r\n",
    "   print( args )\r\n",
    "\r\n",
    "printEmployees( e0 = 'Nadiv', e1 = 'Andres', e2 = 'David', e3 = 'Camila', e4 = 'Daniel',)"
   ],
   "outputs": [
    {
     "output_type": "error",
     "ename": "NameError",
     "evalue": "name 'printEmployees' is not defined",
     "traceback": [
      "\u001b[1;31m---------------------------------------------------------------------------\u001b[0m",
      "\u001b[1;31mNameError\u001b[0m                                 Traceback (most recent call last)",
      "\u001b[1;32mC:\\Users\\ZERQUI~1\\AppData\\Local\\Temp/ipykernel_28544/806718472.py\u001b[0m in \u001b[0;36m<module>\u001b[1;34m\u001b[0m\n\u001b[0;32m      2\u001b[0m    \u001b[0mprint\u001b[0m\u001b[1;33m(\u001b[0m \u001b[0margs\u001b[0m \u001b[1;33m)\u001b[0m\u001b[1;33m\u001b[0m\u001b[1;33m\u001b[0m\u001b[0m\n\u001b[0;32m      3\u001b[0m \u001b[1;33m\u001b[0m\u001b[0m\n\u001b[1;32m----> 4\u001b[1;33m \u001b[0mprintEmployees\u001b[0m\u001b[1;33m(\u001b[0m \u001b[0me0\u001b[0m \u001b[1;33m=\u001b[0m \u001b[1;34m'Nadiv'\u001b[0m\u001b[1;33m,\u001b[0m \u001b[0me1\u001b[0m \u001b[1;33m=\u001b[0m \u001b[1;34m'Andres'\u001b[0m\u001b[1;33m,\u001b[0m \u001b[0me2\u001b[0m \u001b[1;33m=\u001b[0m \u001b[1;34m'David'\u001b[0m\u001b[1;33m,\u001b[0m \u001b[0me3\u001b[0m \u001b[1;33m=\u001b[0m \u001b[1;34m'Camila'\u001b[0m\u001b[1;33m,\u001b[0m \u001b[0me4\u001b[0m \u001b[1;33m=\u001b[0m \u001b[1;34m'Daniel'\u001b[0m\u001b[1;33m,\u001b[0m\u001b[1;33m)\u001b[0m\u001b[1;33m\u001b[0m\u001b[1;33m\u001b[0m\u001b[0m\n\u001b[0m",
      "\u001b[1;31mNameError\u001b[0m: name 'printEmployees' is not defined"
     ]
    }
   ],
   "metadata": {}
  },
  {
   "cell_type": "code",
   "execution_count": null,
   "source": [
    "[3,3] in [3,3]"
   ],
   "outputs": [
    {
     "output_type": "execute_result",
     "data": {
      "text/plain": [
       "False"
      ]
     },
     "metadata": {},
     "execution_count": 14
    }
   ],
   "metadata": {}
  },
  {
   "cell_type": "code",
   "execution_count": null,
   "source": [
    "nums = [1,2,3,4,5,6,7,8,9]\r\n",
    "\r\n",
    "print( list( map( lambda number: number ** 2, nums ) ) )\r\n",
    "\r\n",
    "print( nums )\r\n",
    "\r\n",
    "print( list( filter( lambda number: number if number % 2 == 0 else number ** 2, nums ) ) )\r\n",
    "\r\n",
    "print( nums )"
   ],
   "outputs": [
    {
     "output_type": "stream",
     "name": "stdout",
     "text": [
      "[1, 4, 9, 16, 25, 36, 49, 64, 81]\n",
      "[1, 2, 3, 4, 5, 6, 7, 8, 9]\n",
      "[1, 2, 3, 4, 5, 6, 7, 8, 9]\n"
     ]
    }
   ],
   "metadata": {}
  },
  {
   "cell_type": "code",
   "execution_count": null,
   "source": [
    "def checkEven( number ):\r\n",
    "   return number % 2 == 0\r\n",
    "\r\n",
    "numsList = [1,2,3,4,5,6,7,8,9]\r\n",
    "evenNumsList = list( filter( checkEven, numsList ) )\r\n",
    "\r\n",
    "print( evenNumsList )\r\n",
    "# Output: [2,4,6,8]"
   ],
   "outputs": [
    {
     "output_type": "stream",
     "name": "stdout",
     "text": [
      "[2, 4, 6, 8]\n"
     ]
    }
   ],
   "metadata": {}
  },
  {
   "cell_type": "code",
   "execution_count": null,
   "source": [
    "from IPython.display import clear_output"
   ],
   "outputs": [],
   "metadata": {}
  },
  {
   "cell_type": "code",
   "execution_count": null,
   "source": [
    "lists = [[1,2,3],[2,1,3],[3,2,1]]\r\n",
    "\r\n",
    "print( [1,2,3,4,5,6] in lists[0] )"
   ],
   "outputs": [
    {
     "output_type": "stream",
     "name": "stdout",
     "text": [
      "False\n"
     ]
    }
   ],
   "metadata": {}
  },
  {
   "cell_type": "code",
   "execution_count": null,
   "source": [
    "index = None \r\n",
    "index = 1\r\n",
    "print(index)"
   ],
   "outputs": [
    {
     "output_type": "stream",
     "name": "stdout",
     "text": [
      "1\n"
     ]
    }
   ],
   "metadata": {}
  },
  {
   "cell_type": "code",
   "execution_count": null,
   "source": [
    "a = [[1,2], [1,2]]\r\n",
    "b = [[1,2], [1,2]]\r\n",
    "c = a + b \r\n",
    "d = [[1,3],[1,2]]\r\n",
    "print(c)\r\n",
    "\r\n",
    "for i in c:\r\n",
    "    print(i)\r\n",
    "    if i in d:\r\n",
    "        print('t')\r\n",
    "    else:\r\n",
    "        print('f')\r\n",
    "    "
   ],
   "outputs": [
    {
     "output_type": "stream",
     "name": "stdout",
     "text": [
      "[[1, 2], [1, 2], [1, 2], [1, 2]]\n",
      "[1, 2]\n",
      "t\n",
      "[1, 2]\n",
      "t\n",
      "[1, 2]\n",
      "t\n",
      "[1, 2]\n",
      "t\n"
     ]
    }
   ],
   "metadata": {}
  }
 ],
 "metadata": {
  "interpreter": {
   "hash": "80fad40a0f9524af4c095928452445a144adab04fa83c0f39feea1dada34e332"
  },
  "kernelspec": {
   "name": "python3",
   "display_name": "Python 3.9.6 64-bit"
  },
  "language_info": {
   "codemirror_mode": {
    "name": "ipython",
    "version": 3
   },
   "file_extension": ".py",
   "mimetype": "text/x-python",
   "name": "python",
   "nbconvert_exporter": "python",
   "pygments_lexer": "ipython3",
   "version": "3.9.6"
  },
  "orig_nbformat": 4
 },
 "nbformat": 4,
 "nbformat_minor": 2
}